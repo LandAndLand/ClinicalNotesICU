{
 "metadata": {
  "language_info": {
   "codemirror_mode": {
    "name": "ipython",
    "version": 3
   },
   "file_extension": ".py",
   "mimetype": "text/x-python",
   "name": "python",
   "nbconvert_exporter": "python",
   "pygments_lexer": "ipython3",
   "version": "3.8.6-final"
  },
  "orig_nbformat": 2,
  "kernelspec": {
   "name": "python3",
   "display_name": "Python 3.8.6 64-bit ('normal')",
   "metadata": {
    "interpreter": {
     "hash": "304dd9ef76ad2d6bf7237ef8f6fde70bef676e0aff923029a3f8742854b86f8f"
    }
   }
  }
 },
 "nbformat": 4,
 "nbformat_minor": 2,
 "cells": [
  {
   "cell_type": "code",
   "execution_count": 23,
   "metadata": {},
   "outputs": [],
   "source": [
    "import os\n",
    "import pandas as pd\n",
    "import numpy as np\n",
    "import pickle\n",
    "\n",
    "from tqdm import tqdm"
   ]
  },
  {
   "cell_type": "code",
   "execution_count": 25,
   "metadata": {},
   "outputs": [],
   "source": [
    "train_path = './data/root/train/'\n",
    "test_path = './data/root/test/'\n",
    "train_starttime_path = './data/train_starttime.pkl'\n",
    "test_starttime_path = './data/test_starttime.pkl'"
   ]
  },
  {
   "source": [
    "### 计算小时差"
   ],
   "cell_type": "markdown",
   "metadata": {}
  },
  {
   "cell_type": "code",
   "execution_count": 6,
   "metadata": {},
   "outputs": [
    {
     "output_type": "execute_result",
     "data": {
      "text/plain": [
       "\" time1 = notes_nonull.iloc[2].CHARTTIME\\ntime2 = notes_nonull.iloc[1].CHARTTIME\\n#diff_time = time1 - time2\\ndiff_time = (time1 - time2)/np.timedelta64(1, 's')/60./60\\nprint(time1, time2)\\nprint(diff_time) \""
      ]
     },
     "metadata": {},
     "execution_count": 6
    }
   ],
   "source": [
    "\"\"\" time1 = notes_nonull.iloc[2].CHARTTIME\n",
    "time2 = notes_nonull.iloc[1].CHARTTIME\n",
    "#diff_time = time1 - time2\n",
    "diff_time = (time1 - time2)/np.timedelta64(1, 's')/60./60\n",
    "print(time1, time2)\n",
    "print(diff_time) \"\"\""
   ]
  },
  {
   "cell_type": "code",
   "execution_count": 17,
   "metadata": {},
   "outputs": [
    {
     "output_type": "stream",
     "name": "stdout",
     "text": [
      "SUBJECT_ID      int64\nHADM_ID         int64\nICUSTAY_ID    float64\nCHARTTIME      object\nITEMID          int64\nVALUE          object\nVALUEUOM       object\ndtype: object\nSUBJECT_ID     int64\nHADM_ID        int64\nICUSTAY_ID     int32\nCHARTTIME     object\nITEMID         int64\nVALUE         object\nVALUEUOM      object\ndtype: object\n"
     ]
    }
   ],
   "source": [
    "\"\"\" events_3 = pd.read_csv('./data/root/train/3/events.csv')\n",
    "stays_3 = pd.read_csv('./data/root/train/3/stays.csv')\n",
    "print(events_3.dtypes)\n",
    "#print(stays_3.dtypes)\n",
    "events_3['ICUSTAY_ID'] = events_3['ICUSTAY_ID'].astype(int)\n",
    "print(events_3.dtypes) \"\"\""
   ]
  },
  {
   "cell_type": "code",
   "execution_count": 30,
   "metadata": {},
   "outputs": [],
   "source": [
    "def all_files(file_path):\n",
    "    all_files = os.listdir(file_path)\n",
    "    all_folders = list(filter(lambda x: x.isdigit(), all_files))\n",
    "    return all_folders\n",
    "\n",
    "def diff(time1, time2):\n",
    "    # compute time2-time1\n",
    "    # return difference in hours\n",
    "    a = np.datetime64(time1)\n",
    "    b = np.datetime64(time2)\n",
    "    return (a-b).astype('timedelta64[h]').astype(int)\n",
    "\n",
    "    "
   ]
  },
  {
   "source": [
    " ## 查看每个文件的各个id类型、\n",
    " "
   ],
   "cell_type": "markdown",
   "metadata": {}
  },
  {
   "cell_type": "code",
   "execution_count": 59,
   "metadata": {},
   "outputs": [],
   "source": [
    "def pi_map_start_time(data_path, start_time_path):\n",
    "    pi_2_start_time = {}\n",
    "    allfiles = all_files(data_path)\n",
    "    for pid in tqdm(allfiles):\n",
    "        #print(pid)\n",
    "        pid = int(pid)\n",
    "        events_path = os.path.join(data_path, str(pid), 'events.csv')\n",
    "        events = pd.read_csv(events_path)\n",
    "        events['ICUSTAY_ID'] = events['ICUSTAY_ID'].astype(int)\n",
    "        \n",
    "        stays_path = os.path.join(data_path, str(pid), 'stays.csv')\n",
    "        stays = pd.read_csv(stays_path)\n",
    "        hadm_ids = list(stays.HADM_ID.values)\n",
    "        intimes = stays.INTIME.values\n",
    "        \n",
    "        sliced = events[events.SUBJECT_ID == pid]\n",
    "        #print(sliced)\n",
    "        for hindex, hid in enumerate(hadm_ids):\n",
    "            sliced_i = sliced[sliced.HADM_ID == hid]\n",
    "            # 找到第hindex次入院时所有指标的测量时间\n",
    "            #print(sliced_i)\n",
    "            chart_times = sliced_i['CHARTTIME']\n",
    "            # 给指标测量时间排序\n",
    "            chart_times = chart_times.sort_values()\n",
    "            #print(chart_times)\n",
    "            # 找到每次入院时间\n",
    "            intime = intimes[hindex]\n",
    "            \n",
    "            # remove intime from charttime\n",
    "            # 找到进入ICU内的首次指标测量时间\n",
    "            result = -1\n",
    "            for t in chart_times:\n",
    "                #print(f't: {t}')\n",
    "                #print(diff(t, intime))\n",
    "                if diff(t, intime) > 1e-6 :\n",
    "                    result = t\n",
    "                    break\n",
    "            name = str(pid) + '_' + str(hindex+1)\n",
    "            # p_i_2_starttime: 建立某个病人某次住院 与 首次测量的时间的映射\n",
    "            pi_2_start_time[name] = result\n",
    "\n",
    "    with open(start_time_path, 'wb') as f:\n",
    "        pickle.dump(pi_2_start_time, f, pickle.HIGHEST_PROTOCOL)\n"
   ]
  },
  {
   "cell_type": "code",
   "execution_count": 60,
   "metadata": {},
   "outputs": [
    {
     "output_type": "stream",
     "name": "stderr",
     "text": [
      "100%|██████████| 3/3 [00:00<00:00, 28.30it/s]\n"
     ]
    }
   ],
   "source": [
    "pi_map_start_time(train_path, train_starttime_path)\n",
    "pi_map_start_time(test_path, test_starttime_path)"
   ]
  },
  {
   "cell_type": "code",
   "execution_count": 61,
   "metadata": {},
   "outputs": [
    {
     "output_type": "stream",
     "name": "stdout",
     "text": [
      "{'11_1': '2178-04-16 05:20:00', '17_1': '2134-12-27 15:55:00', '17_2': '2135-05-09 10:45:00', '23_1': '2153-09-03 06:32:00', '23_2': '2157-10-21 03:40:00'}\n"
     ]
    }
   ],
   "source": [
    "# 先读取root1/train 文件夹的内容，然后测试是否成功\n",
    "import pickle\n",
    "f=open(train_starttime_path,'rb')\n",
    "data=pickle.load(f)\n",
    "print(data)"
   ]
  }
 ]
}